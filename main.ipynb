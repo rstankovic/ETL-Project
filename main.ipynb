{
 "cells": [
  {
   "cell_type": "code",
   "execution_count": 46,
   "metadata": {},
   "outputs": [],
   "source": [
    "import scrape_script as scrape\n",
    "import pymongo\n",
    "import pandas as pd"
   ]
  },
  {
   "cell_type": "code",
   "execution_count": 11,
   "metadata": {},
   "outputs": [],
   "source": [
    "conn = 'mongodb://localhost:27017'\n",
    "\n",
    "client = pymongo.MongoClient(conn)\n",
    "\n",
    "db = client.f1_db"
   ]
  },
  {
   "cell_type": "code",
   "execution_count": 12,
   "metadata": {},
   "outputs": [
    {
     "output_type": "stream",
     "name": "stdout",
     "text": "year_data is list of dataframes\n"
    }
   ],
   "source": [
    "years_data = scrape.scrape()"
   ]
  },
  {
   "cell_type": "code",
   "execution_count": 50,
   "metadata": {},
   "outputs": [],
   "source": [
    "years_dict = {}\n",
    "for year in years_data:\n",
    "    year_d = years_data[year][0].to_dict()\n",
    "    year_dict = {}\n",
    "    for column in year_d:\n",
    "        row_list = []\n",
    "        for row in year_d[column]:\n",
    "            row_list.append(year_d[column][row])\n",
    "        year_dict[column] = row_list\n",
    "    years_dict[year] = year_dict"
   ]
  },
  {
   "cell_type": "code",
   "execution_count": 51,
   "metadata": {},
   "outputs": [],
   "source": [
    "db.drop_collection('race_results')\n",
    "for year in years_dict:\n",
    "    del years_dict[year]['Unnamed: 0']\n",
    "    del years_dict[year]['Unnamed: 7']\n",
    "    year_d = pd.DataFrame(years_dict[year]).to_dict(orient='records')\n",
    "    for race in year_d:\n",
    "        race['year'] = int(year)\n",
    "        db.race_results.insert(race)"
   ]
  },
  {
   "cell_type": "code",
   "execution_count": 58,
   "metadata": {},
   "outputs": [],
   "source": [
    "races = db.race_results.find({'year':1967})"
   ]
  },
  {
   "cell_type": "code",
   "execution_count": 59,
   "metadata": {
    "tags": [
     "outputPrepend"
    ]
   },
   "outputs": [
    {
     "output_type": "stream",
     "name": "stdout",
     "text": "{'_id': ObjectId('5ec725f805f77db3743c6042'), 'Grand Prix': 'South Africa', 'Date': '02 Jan 1967', 'Winner': 'Pedro  Rodriguez  ROD', 'Car': 'Cooper Maserati', 'Laps': 80, 'Time': '2:05:45.900', 'year': 1967}\n{'_id': ObjectId('5ec725f805f77db3743c6043'), 'Grand Prix': 'Monaco', 'Date': '07 May 1967', 'Winner': 'Denny  Hulme  HUL', 'Car': 'Brabham Repco', 'Laps': 100, 'Time': '2:34:34.300', 'year': 1967}\n{'_id': ObjectId('5ec725f805f77db3743c6044'), 'Grand Prix': 'Netherlands', 'Date': '04 Jun 1967', 'Winner': 'Jim  Clark  CLA', 'Car': 'Lotus Ford', 'Laps': 90, 'Time': '2:14:45.100', 'year': 1967}\n{'_id': ObjectId('5ec725f805f77db3743c6045'), 'Grand Prix': 'Belgium', 'Date': '18 Jun 1967', 'Winner': 'Dan  Gurney  GUR', 'Car': 'Eagle Weslake', 'Laps': 28, 'Time': '1:40:49.400', 'year': 1967}\n{'_id': ObjectId('5ec725f805f77db3743c6046'), 'Grand Prix': 'France', 'Date': '02 Jul 1967', 'Winner': 'Jack  Brabham  BRA', 'Car': 'Brabham Repco', 'Laps': 80, 'Time': '2:13:21.300', 'year': 1967}\n{'_id': ObjectId('5ec725f805f77db3743c6047'), 'Grand Prix': 'Great Britain', 'Date': '15 Jul 1967', 'Winner': 'Jim  Clark  CLA', 'Car': 'Lotus Ford', 'Laps': 80, 'Time': '1:59:25.600', 'year': 1967}\n{'_id': ObjectId('5ec725f805f77db3743c6048'), 'Grand Prix': 'Germany', 'Date': '06 Aug 1967', 'Winner': 'Denny  Hulme  HUL', 'Car': 'Brabham Repco', 'Laps': 15, 'Time': '2:05:55.700', 'year': 1967}\n{'_id': ObjectId('5ec725f805f77db3743c6049'), 'Grand Prix': 'Canada', 'Date': '27 Aug 1967', 'Winner': 'Jack  Brabham  BRA', 'Car': 'Brabham Repco', 'Laps': 90, 'Time': '2:40:40.000', 'year': 1967}\n{'_id': ObjectId('5ec725f805f77db3743c604a'), 'Grand Prix': 'Italy', 'Date': '10 Sep 1967', 'Winner': 'John  Surtees  SUR', 'Car': 'Honda', 'Laps': 68, 'Time': '1:43:45.000', 'year': 1967}\n{'_id': ObjectId('5ec725f805f77db3743c604b'), 'Grand Prix': 'United States', 'Date': '01 Oct 1967', 'Winner': 'Jim  Clark  CLA', 'Car': 'Lotus Ford', 'Laps': 108, 'Time': '2:03:13.200', 'year': 1967}\n{'_id': ObjectId('5ec725f805f77db3743c604c'), 'Grand Prix': 'Mexico', 'Date': '22 Oct 1967', 'Winner': 'Jim  Clark  CLA', 'Car': 'Lotus Ford', 'Laps': 65, 'Time': '1:59:28.700', 'year': 1967}\n"
    }
   ],
   "source": [
    "for race in races:\n",
    "    print(race)"
   ]
  },
  {
   "cell_type": "code",
   "execution_count": null,
   "metadata": {},
   "outputs": [],
   "source": []
  }
 ],
 "metadata": {
  "language_info": {
   "codemirror_mode": {
    "name": "ipython",
    "version": 3
   },
   "file_extension": ".py",
   "mimetype": "text/x-python",
   "name": "python",
   "nbconvert_exporter": "python",
   "pygments_lexer": "ipython3",
   "version": "3.7.4-final"
  },
  "orig_nbformat": 2,
  "kernelspec": {
   "name": "python3",
   "display_name": "Python 3"
  }
 },
 "nbformat": 4,
 "nbformat_minor": 2
}