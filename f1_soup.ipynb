{
 "cells": [
  {
   "cell_type": "code",
   "execution_count": 24,
   "metadata": {},
   "outputs": [],
   "source": [
    "from bs4 import BeautifulSoup as bs \n",
    "from splinter import Browser\n",
    "import time\n",
    "import pymongo\n",
    "\n",
    "def init_browser():\n",
    "    executable_path = {'executable_path':'/usr/local/bin/chromedriver'}\n",
    "    return Browser('chrome',**executable_path, headless = False)\n",
    "\n"
   ]
  },
  {
   "cell_type": "code",
   "execution_count": 22,
   "metadata": {},
   "outputs": [
    {
     "output_type": "stream",
     "name": "stdout",
     "text": "{'Grand Prix': 'Spain', 'Date': '24 Oct 1954', 'Winner': 'Mike Hawthorn', 'Car': 'Ferrari', 'Laps': '80', 'Time': '3:13:52.100', 'Year': 1954} 47\n"
    }
   ],
   "source": [
    "browser = init_browser()\n",
    "races = []\n",
    "for year in range(1950,1955):\n",
    "\n",
    "    url = f'https://www.formula1.com/en/results.html/{year}/races.html'\n",
    "    browser.visit(url)\n",
    "    time.sleep(1)\n",
    "\n",
    "    html = browser.html\n",
    "    soup = bs(html,'html.parser')\n",
    "    table = soup.find('table', {'class':'resultsarchive-table'})\n",
    "\n",
    "    for row in table.find_all('tr'):\n",
    "        new_dict = {}\n",
    "        race = [x.text for x in row.find_all('td')]\n",
    "\n",
    "        if len(race) > 2:\n",
    "            new_dict['Grand Prix'] = race[1].strip()\n",
    "            new_dict['Date'] = race[2].strip()\n",
    "            new_dict['Winner'] = ' '.join(race[3].split('\\n')[1:3])\n",
    "            new_dict['Car'] = race[4].strip()\n",
    "            new_dict['Laps'] = race[5].strip()\n",
    "            new_dict['Time'] = race[6].strip()\n",
    "            new_dict['Year'] = year\n",
    "\n",
    "        races.append(new_dict)\n",
    "\n",
    "print(races[len(races) - 1],len(races))"
   ]
  },
  {
   "cell_type": "code",
   "execution_count": 25,
   "metadata": {},
   "outputs": [
    {
     "output_type": "execute_result",
     "data": {
      "text/plain": "<pymongo.results.InsertManyResult at 0x113c5a280>"
     },
     "metadata": {},
     "execution_count": 25
    }
   ],
   "source": [
    "conn = 'mongodb://localhost:27017'\n",
    "\n",
    "client = pymongo.MongoClient(conn)\n",
    "\n",
    "db = client.f1_db\n",
    "\n",
    "db.race_results.insert_many(races)"
   ]
  },
  {
   "cell_type": "code",
   "execution_count": 28,
   "metadata": {},
   "outputs": [
    {
     "output_type": "stream",
     "name": "stdout",
     "text": "{'_id': ObjectId('5ec737edd5d2cba6221285ae'), 'Grand Prix': 'Argentina', 'Date': '18 Jan 1953', 'Winner': 'Alberto Ascari', 'Car': 'Ferrari', 'Laps': '97', 'Time': '3:01:04.600', 'Year': 1953}\n{'_id': ObjectId('5ec737edd5d2cba6221285af'), 'Grand Prix': 'Indianapolis 500', 'Date': '30 May 1953', 'Winner': 'Bill  Vukovich ', 'Car': 'Kurtis Kraft Offenhauser', 'Laps': '200', 'Time': '3:53:01.690', 'Year': 1953}\n{'_id': ObjectId('5ec737edd5d2cba6221285b0'), 'Grand Prix': 'Netherlands', 'Date': '07 Jun 1953', 'Winner': 'Alberto Ascari', 'Car': 'Ferrari', 'Laps': '90', 'Time': '2:53:35.800', 'Year': 1953}\n{'_id': ObjectId('5ec737edd5d2cba6221285b1'), 'Grand Prix': 'Belgium', 'Date': '21 Jun 1953', 'Winner': 'Alberto Ascari', 'Car': 'Ferrari', 'Laps': '36', 'Time': '2:48:30.300', 'Year': 1953}\n{'_id': ObjectId('5ec737edd5d2cba6221285b2'), 'Grand Prix': 'France', 'Date': '05 Jul 1953', 'Winner': 'Mike Hawthorn', 'Car': 'Ferrari', 'Laps': '60', 'Time': '2:44:18.600', 'Year': 1953}\n{'_id': ObjectId('5ec737edd5d2cba6221285b3'), 'Grand Prix': 'Great Britain', 'Date': '18 Jul 1953', 'Winner': 'Alberto Ascari', 'Car': 'Ferrari', 'Laps': '90', 'Time': '2:50:00.000', 'Year': 1953}\n{'_id': ObjectId('5ec737edd5d2cba6221285b4'), 'Grand Prix': 'Germany', 'Date': '02 Aug 1953', 'Winner': 'Nino Farina', 'Car': 'Ferrari', 'Laps': '18', 'Time': '3:02:25.000', 'Year': 1953}\n{'_id': ObjectId('5ec737edd5d2cba6221285b5'), 'Grand Prix': 'Switzerland', 'Date': '23 Aug 1953', 'Winner': 'Alberto Ascari', 'Car': 'Ferrari', 'Laps': '65', 'Time': '3:01:34.400', 'Year': 1953}\n{'_id': ObjectId('5ec737edd5d2cba6221285b6'), 'Grand Prix': 'Italy', 'Date': '13 Sep 1953', 'Winner': 'Juan Manuel Fangio', 'Car': 'Maserati', 'Laps': '80', 'Time': '2:49:45.900', 'Year': 1953}\n"
    }
   ],
   "source": [
    "results = db.race_results.find({'Year':1953})\n",
    "for result in results:\n",
    "    print(result)"
   ]
  },
  {
   "cell_type": "code",
   "execution_count": null,
   "metadata": {},
   "outputs": [],
   "source": []
  }
 ],
 "metadata": {
  "language_info": {
   "codemirror_mode": {
    "name": "ipython",
    "version": 3
   },
   "file_extension": ".py",
   "mimetype": "text/x-python",
   "name": "python",
   "nbconvert_exporter": "python",
   "pygments_lexer": "ipython3",
   "version": "3.7.4-final"
  },
  "orig_nbformat": 2,
  "kernelspec": {
   "name": "python3",
   "display_name": "Python 3"
  }
 },
 "nbformat": 4,
 "nbformat_minor": 2
}