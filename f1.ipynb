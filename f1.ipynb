{
 "cells": [
  {
   "cell_type": "code",
   "execution_count": 2,
   "metadata": {},
   "outputs": [],
   "source": [
    "from splinter import Browser\n",
    "from bs4 import BeautifulSoup as bs\n",
    "import time\n",
    "import pandas as pd"
   ]
  },
  {
   "cell_type": "code",
   "execution_count": 3,
   "metadata": {},
   "outputs": [],
   "source": [
    "def init_browser():\n",
    "    executable_path = {'executable_path':'/usr/local/bin/chromedriver'}\n",
    "    return Browser('chrome',**executable_path, headless = False)"
   ]
  },
  {
   "cell_type": "code",
   "execution_count": 21,
   "metadata": {},
   "outputs": [],
   "source": [
    "def scrape_f1():\n",
    "    browser = init_browser()\n",
    "\n",
    "    url = 'https://www.formula1.com/en/results.html/2020/races.html'\n",
    "    browser.visit(url)\n",
    "    time.sleep(1)\n",
    "\n",
    "    html = browser.html\n",
    "    soup = bs(html,'html.parser')\n",
    "\n",
    "    top_row = soup.find('div',class_='resultsarchive-filter-container')\n",
    "    year_ul = top_row.find('div',class_='resultsarchive-filter-wrap')\n",
    "    year_ul = year_ul.find_all('ul')[0]\n",
    "    years_list = year_ul.find_all('a')\n",
    "    return years_list"
   ]
  },
  {
   "cell_type": "code",
   "execution_count": 35,
   "metadata": {},
   "outputs": [],
   "source": [
    "def iterate_f1(years_list):\n",
    "    year_data = {}\n",
    "\n",
    "    for year in years_list:\n",
    "        url = 'https://formula1.com' + year.get('href')\n",
    "\n",
    "        year_data[year.find('span').get_text()] = pd.read_html(url)\n",
    "\n",
    "    return year_data"
   ]
  },
  {
   "cell_type": "code",
   "execution_count": 36,
   "metadata": {},
   "outputs": [],
   "source": [
    "year_data = iterate_f1(scrape_f1())"
   ]
  },
  {
   "cell_type": "code",
   "execution_count": null,
   "metadata": {},
   "outputs": [],
   "source": [
    "print(year_data['1950'].head())"
   ]
  }
 ],
 "metadata": {
  "language_info": {
   "codemirror_mode": {
    "name": "ipython",
    "version": 3
   },
   "file_extension": ".py",
   "mimetype": "text/x-python",
   "name": "python",
   "nbconvert_exporter": "python",
   "pygments_lexer": "ipython3",
   "version": "3.7.4-final"
  },
  "orig_nbformat": 2,
  "kernelspec": {
   "name": "python3",
   "display_name": "Python 3"
  }
 },
 "nbformat": 4,
 "nbformat_minor": 2
}